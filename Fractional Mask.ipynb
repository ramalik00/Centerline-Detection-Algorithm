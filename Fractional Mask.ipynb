{
 "cells": [
  {
   "cell_type": "markdown",
   "metadata": {},
   "source": [
    "# A fractional ﬁlter based efﬁcient algorithm for retinal blood vessel\n",
    "# segmentation"
   ]
  },
  {
   "cell_type": "markdown",
   "metadata": {},
   "source": [
    "Fractional filter implementation\n"
   ]
  },
  {
   "cell_type": "code",
   "execution_count": 1,
   "metadata": {},
   "outputs": [],
   "source": [
    "import scipy.special as sc\n",
    "import matplotlib.pyplot as plt\n",
    "import numpy as np"
   ]
  },
  {
   "cell_type": "code",
   "execution_count": 2,
   "metadata": {},
   "outputs": [],
   "source": [
    "def lower_gammainc(alpha,a):\n",
    "    return 1 - sc.gammaincc(alpha, a)\n",
    "def gamma_func(n):\n",
    "    return sc.gamma(n)\n",
    "def print_matrix(matrix):\n",
    "    for row in matrix:\n",
    "        for val in row:\n",
    "            print ('{:4}'.format(val),end=\" \"),\n",
    "        print()    \n",
    "        \n",
    "\n",
    "    "
   ]
  },
  {
   "cell_type": "code",
   "execution_count": 3,
   "metadata": {},
   "outputs": [],
   "source": [
    "def get_coefficient(n,k,alpha,a):\n",
    "    if k==0 :\n",
    "        return lower_gammainc(alpha,a)/(2*pow(a,alpha)*gamma_func(alpha))\n",
    "    if k==1 :\n",
    "        return lower_gammainc(alpha,2*a)/(2*pow(a,alpha)*gamma_func(alpha))\n",
    "    if k <= n-1 :\n",
    "        return (lower_gammainc(alpha,(k+1)*a) - lower_gammainc(alpha,(k-1)*a))/(2*pow(a,alpha)*gamma_func(alpha))\n",
    "    return (lower_gammainc(alpha,(n)*a) - lower_gammainc(alpha,(n-1)*a))/(2*pow(a,alpha)*gamma_func(alpha))\n",
    "        \n",
    "    \n",
    "    "
   ]
  },
  {
   "cell_type": "code",
   "execution_count": 4,
   "metadata": {},
   "outputs": [],
   "source": [
    "def build_mask(size,alpha,a):\n",
    "    coefficients=[]\n",
    "    for i in range(size+1):\n",
    "        coefficients.append(get_coefficient(size,i,alpha,a))\n",
    "    \n",
    "    mask = np.zeros((2*size+1,2*size+1))\n",
    "    mask[size][size]=coefficients[0]\n",
    "    dx=[0,1,1,1,0,-1,-1,-1]\n",
    "    dy=[1,1,0,-1,-1,-1,0,1]\n",
    "    for i in range(1,size+1):\n",
    "        for direction in range(8):\n",
    "            mask[size+i*dx[direction]][size+i*dy[direction]]=coefficients[i]\n",
    "    return mask        "
   ]
  },
  {
   "cell_type": "code",
   "execution_count": 7,
   "metadata": {},
   "outputs": [],
   "source": [
    "kern=build_mask(1,0.08,0.85)"
   ]
  },
  {
   "cell_type": "code",
   "execution_count": 8,
   "metadata": {},
   "outputs": [
    {
     "name": "stdout",
     "output_type": "stream",
     "text": [
      "[[0.04194259 0.04194259 0.04194259]\n",
      " [0.04194259 0.0411975  0.04194259]\n",
      " [0.04194259 0.04194259 0.04194259]]\n"
     ]
    }
   ],
   "source": [
    "print(kern)"
   ]
  },
  {
   "cell_type": "markdown",
   "metadata": {},
   "source": [
    "# Principal Component Analysis\n"
   ]
  },
  {
   "cell_type": "code",
   "execution_count": 6,
   "metadata": {},
   "outputs": [],
   "source": [
    "def PCA(f,kernal_size):\n",
    "    #Defining our kernals\n",
    "    K_XC=np.zeros((kernal_size,kernal_size))\n",
    "    K_YC=np.zeros((kernal_size,kernal_size))\n",
    "    for row in range(kernal_size):\n",
    "        for col in range(kernal_size):\n",
    "            K_XC[row][col]=col\n",
    "            K_YC[row][col]=row\n",
    "    img_size = f.shape[0]\n",
    "    #Initializing Weighted mean matrix\n",
    "    X_C=np.zeros((img_size,img_size))\n",
    "    Y_C=np.zeros((img_size,img_size))\n",
    "    #Computing weighted mean matrix\n",
    "    n=kernal_size\n",
    "    for x in range(img_size):\n",
    "        for y in range(img_size):\n",
    "            num_x=0\n",
    "            num_y=0\n",
    "            denom=0\n",
    "            for i in range(kernal_size):\n",
    "                for j in range(kernal_size):\n",
    "                    if x+1+i-(n+1)//2 >= img_size or y+1+j-(n+1)//2 >= img_size :\n",
    "                        continue\n",
    "                    num_x+=K_XC[i][j]*f[x+1+i-(n+1)//2][y+1+j-(n+1)//2]\n",
    "                    num_y+=K_YC[i][j]*f[x+1+i-(n+1)//2][y+1+j-(n+1)//2]\n",
    "                    denom+=f[x+1+i-(n+1)//2][y+1+j-(n+1)//2]\n",
    "            \n",
    "            X_C[x][y]=num_x/denom\n",
    "            Y_C[x][y]=num_y/denom\n",
    "    \n",
    "    #Initializing Variance matrix\n",
    "    X_V=np.zeros((img_size,img_size))\n",
    "    Y_V=np.zeros((img_size,img_size))\n",
    "    for x in range(img_size):\n",
    "        for y in range(img_size):\n",
    "            for i in range(kernal_size):\n",
    "                for j in range(kernal_size):\n",
    "                    if x+1+i-(n+1)//2 >= img_size or y+1+j-(n+1)//2 >= img_size :\n",
    "                        continue\n",
    "                    X_V[x][y]+=((K_XC[i][j]-X_C[x][y])**2)*f[x+1+i-(n+1)//2][y+1+j-(n+1)//2]\n",
    "                    Y_V[x][y]+=((K_YC[i][j]-Y_C[x][y])**2)*f[x+1+i-(n+1)//2][y+1+j-(n+1)//2]\n",
    "    \n",
    "    \n",
    "    #Initializing the covariance matrix\n",
    "    Cov = np.zeros((img_size,img_size))\n",
    "    for x in range(img_size):\n",
    "        for y in range(img_size):\n",
    "            for i in range(kernal_size):\n",
    "                for j in range(kernal_size):\n",
    "                    if x+1+i-(n+1)//2 >= img_size or y+1+j-(n+1)//2 >= img_size :\n",
    "                        continue\n",
    "                    Cov[x][y]+=((K_XC[i][j]-X_C[x][y])*(K_YC[i][j]-Y_C[x][y]))*f[x+1+i-(n+1)//2][y+1+j-(n+1)//2]\n",
    "    \n",
    "    matrix = [[]for i in range(img_size)]        \n",
    "    for x in range(img_size):\n",
    "        for y in range(img_size):\n",
    "            temp=np.zeros((2,2))\n",
    "            temp[0][0]=X_V[x][y]\n",
    "            temp[1][1]=Y_V[x][y]\n",
    "            temp[0][1]=Cov[x][y]\n",
    "            temp[1][0]=Cov[x][y]\n",
    "            matrix[x].append(temp)\n",
    "    return matrix    \n",
    "            "
   ]
  },
  {
   "cell_type": "code",
   "execution_count": 7,
   "metadata": {},
   "outputs": [],
   "source": [
    "size = 75\n",
    "f = np.zeros((size,size))\n",
    "for x in range(size):\n",
    "    for y in range(size):\n",
    "        f[x][y]=np.random.rand()\n",
    "matrix=PCA(f,5)      "
   ]
  },
  {
   "cell_type": "code",
   "execution_count": 8,
   "metadata": {},
   "outputs": [],
   "source": [
    "import cv2"
   ]
  },
  {
   "cell_type": "code",
   "execution_count": 9,
   "metadata": {},
   "outputs": [],
   "source": [
    "image=cv2.imread(\"retina.jpeg\")\n",
    "sz=image.shape[0]\n",
    "kern2=build_mask(sz,0.08,0.85)"
   ]
  },
  {
   "cell_type": "code",
   "execution_count": 10,
   "metadata": {},
   "outputs": [
    {
     "name": "stdout",
     "output_type": "stream",
     "text": [
      "[[[6 4 4]\n",
      "  [6 4 4]\n",
      "  [6 4 4]\n",
      "  ...\n",
      "  [3 3 3]\n",
      "  [3 3 3]\n",
      "  [3 3 3]]\n",
      "\n",
      " [[6 4 4]\n",
      "  [6 4 4]\n",
      "  [6 4 4]\n",
      "  ...\n",
      "  [3 3 3]\n",
      "  [3 3 3]\n",
      "  [3 3 3]]\n",
      "\n",
      " [[6 4 4]\n",
      "  [6 4 4]\n",
      "  [6 4 4]\n",
      "  ...\n",
      "  [3 3 3]\n",
      "  [3 3 3]\n",
      "  [3 3 3]]\n",
      "\n",
      " ...\n",
      "\n",
      " [[3 3 3]\n",
      "  [3 3 3]\n",
      "  [3 3 3]\n",
      "  ...\n",
      "  [3 3 3]\n",
      "  [3 3 3]\n",
      "  [3 3 3]]\n",
      "\n",
      " [[3 3 3]\n",
      "  [3 3 3]\n",
      "  [3 3 3]\n",
      "  ...\n",
      "  [3 3 3]\n",
      "  [3 3 3]\n",
      "  [3 3 3]]\n",
      "\n",
      " [[3 3 3]\n",
      "  [3 3 3]\n",
      "  [3 3 3]\n",
      "  ...\n",
      "  [3 3 3]\n",
      "  [3 3 3]\n",
      "  [3 3 3]]]\n"
     ]
    }
   ],
   "source": [
    "print(kern2)"
   ]
  },
  {
   "cell_type": "code",
   "execution_count": 11,
   "metadata": {},
   "outputs": [],
   "source": [
    "dst = cv2.filter2D(image,-1,kern2)"
   ]
  },
  {
   "cell_type": "code",
   "execution_count": 12,
   "metadata": {},
   "outputs": [
    {
     "name": "stdout",
     "output_type": "stream",
     "text": [
      "[[[2 2 2]\n",
      "  [2 2 2]\n",
      "  [2 2 2]\n",
      "  ...\n",
      "  [1 1 1]\n",
      "  [1 1 1]\n",
      "  [1 1 1]]\n",
      "\n",
      " [[2 2 2]\n",
      "  [2 2 2]\n",
      "  [2 2 2]\n",
      "  ...\n",
      "  [1 1 1]\n",
      "  [1 1 1]\n",
      "  [1 1 1]]\n",
      "\n",
      " [[2 2 2]\n",
      "  [2 2 2]\n",
      "  [2 2 2]\n",
      "  ...\n",
      "  [1 1 1]\n",
      "  [1 1 1]\n",
      "  [1 1 1]]\n",
      "\n",
      " ...\n",
      "\n",
      " [[1 1 1]\n",
      "  [1 1 1]\n",
      "  [1 1 1]\n",
      "  ...\n",
      "  [1 1 1]\n",
      "  [1 1 1]\n",
      "  [1 1 1]]\n",
      "\n",
      " [[1 1 1]\n",
      "  [1 1 1]\n",
      "  [1 1 1]\n",
      "  ...\n",
      "  [1 1 1]\n",
      "  [1 1 1]\n",
      "  [1 1 1]]\n",
      "\n",
      " [[1 1 1]\n",
      "  [1 1 1]\n",
      "  [1 1 1]\n",
      "  ...\n",
      "  [1 1 1]\n",
      "  [1 1 1]\n",
      "  [1 1 1]]]\n"
     ]
    }
   ],
   "source": [
    "print(dst)"
   ]
  },
  {
   "cell_type": "code",
   "execution_count": 13,
   "metadata": {},
   "outputs": [],
   "source": [
    "def show(img):\n",
    "    cv2.imshow('im',img)\n",
    "    cv2.waitKey(0)\n",
    "    cv2.destroyAllWindows()"
   ]
  },
  {
   "cell_type": "code",
   "execution_count": 14,
   "metadata": {},
   "outputs": [],
   "source": [
    "show(dst)"
   ]
  },
  {
   "cell_type": "code",
   "execution_count": null,
   "metadata": {},
   "outputs": [],
   "source": []
  }
 ],
 "metadata": {
  "kernelspec": {
   "display_name": "Python 3",
   "language": "python",
   "name": "python3"
  },
  "language_info": {
   "codemirror_mode": {
    "name": "ipython",
    "version": 3
   },
   "file_extension": ".py",
   "mimetype": "text/x-python",
   "name": "python",
   "nbconvert_exporter": "python",
   "pygments_lexer": "ipython3",
   "version": "3.7.6"
  }
 },
 "nbformat": 4,
 "nbformat_minor": 4
}
